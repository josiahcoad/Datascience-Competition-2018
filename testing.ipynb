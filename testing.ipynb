{
 "cells": [
  {
   "cell_type": "code",
   "execution_count": 3,
   "metadata": {},
   "outputs": [],
   "source": [
    "import pandas as pd\n",
    "from collections import Counter\n",
    "import numpy as np\n",
    "import datetime as dt\n",
    "import time"
   ]
  },
  {
   "cell_type": "code",
   "execution_count": 4,
   "metadata": {},
   "outputs": [],
   "source": [
    "def getwknum(string):\n",
    "    # this could be sped up since split is O(n)\n",
    "    # if we could work under assumption timestamps are all exact same,\n",
    "    # then we can split on index\n",
    "    month, day, year = map(int, string.split()[0].split(\"/\"))\n",
    "    return dt.datetime(year, month, day, 0, 0, 0).timetuple().tm_yday // 7\n",
    "\n",
    "\n",
    "def addWeeks(df):\n",
    "    df['week'] = df['Trip Start Timestamp'].transform(lambda x: getwknum(x))\n",
    "    return df"
   ]
  },
  {
   "cell_type": "code",
   "execution_count": 5,
   "metadata": {},
   "outputs": [],
   "source": [
    "def convert(data):\n",
    "    trip_miles = {}\n",
    "    for k, v in data.items():\n",
    "        taxiID = k[0]\n",
    "        if taxiID not in trip_miles:\n",
    "            trip_miles[taxiID] = [0] * 53\n",
    "        wknum = k[1]\n",
    "        trip_miles[taxiID][wknum] += float(v)\n",
    "    return trip_miles"
   ]
  },
  {
   "cell_type": "code",
   "execution_count": 6,
   "metadata": {},
   "outputs": [],
   "source": [
    "def readAllRows(filename, chunksize, nrows):\n",
    "    total_count = Counter()\n",
    "    print(\"Start reading.\")\n",
    "    for df in pd.read_csv(filename,\n",
    "                          usecols=[\"Taxi ID\", \"Trip Miles\",\n",
    "                                   \"Trip Start Timestamp\"],\n",
    "                          dtype={\n",
    "                              \"Taxi ID\": object,\n",
    "                              \"Trip Miles\": float,\n",
    "                              \"Trip Start Timestamp\": object\n",
    "                          },\n",
    "                          chunksize=chunksize,\n",
    "                          iterator=True,\n",
    "                          nrows=nrows):\n",
    "        total_count += Counter(addWeeks(df).groupby([\"Taxi ID\", \"week\"])[\"Trip Miles\"].sum().to_dict())\n",
    "        \n",
    "    headers = ['Taxi ID', *[f'week{i}' for i in range(1, 54)]]\n",
    "    # new method\n",
    "    return pd.DataFrame([[key, *val] for key, val in convert(total_count).items()], columns=headers)"
   ]
  },
  {
   "cell_type": "code",
   "execution_count": 48,
   "metadata": {},
   "outputs": [
    {
     "name": "stdout",
     "output_type": "stream",
     "text": [
      "  Taxi ID  Trip Miles  week\n",
      "0                   5     1\n",
      "1       A           5     2\n",
      "2                   5     1\n",
      "3       B           5     2\n",
      "4       B           0     2\n"
     ]
    }
   ],
   "source": [
    "id1 = \"A\"#\"fff84aa08ac78890c6e7da64b817cbd9aad6a124104e099a7482efee1a6bac61a837e1db218e9d38c159f28c8f85187a08a05c8ba54648edc3b91e437357fa84\"\n",
    "id2 = \"B\"#\"gff84aa08ac78890c6e7da64b817cbd9aad6a124104e099a7482efee1a6bac61a837e1db218e9d38c159f28c8f85187a08a05c8ba54648edc3b91e437357fa84\"\n",
    "\n",
    "d = {'Taxi ID' : pd.Series([\"\", id1, \"\", id2, id2]),\n",
    "     'week' : pd.Series([1,2,1,2, 2]),\n",
    "     'Trip Miles': pd.Series([5,5,5,5,0])}\n",
    "df = pd.DataFrame(d)\n",
    "print(df)"
   ]
  },
  {
   "cell_type": "code",
   "execution_count": 49,
   "metadata": {},
   "outputs": [
    {
     "name": "stdout",
     "output_type": "stream",
     "text": [
      "Taxi ID  week\n",
      "         1       10\n",
      "A        2        5\n",
      "B        2        5\n",
      "Name: Trip Miles, dtype: int64\n"
     ]
    }
   ],
   "source": [
    "s = df.groupby([\"Taxi ID\", \"week\"])[\"Trip Miles\"].sum()\n",
    "print(s)"
   ]
  },
  {
   "cell_type": "code",
   "execution_count": 31,
   "metadata": {},
   "outputs": [
    {
     "data": {
      "text/plain": [
       "0    5\n",
       "1    5\n",
       "2    5\n",
       "3    5\n",
       "Name: Trip Miles, dtype: int64"
      ]
     },
     "execution_count": 31,
     "metadata": {},
     "output_type": "execute_result"
    }
   ],
   "source": [
    "s.head()"
   ]
  },
  {
   "cell_type": "code",
   "execution_count": 9,
   "metadata": {},
   "outputs": [
    {
     "data": {
      "text/plain": [
       "52"
      ]
     },
     "execution_count": 9,
     "metadata": {},
     "output_type": "execute_result"
    }
   ],
   "source": [
    "getwknum(\"12/31/2015\")"
   ]
  },
  {
   "cell_type": "code",
   "execution_count": 10,
   "metadata": {},
   "outputs": [
    {
     "name": "stdout",
     "output_type": "stream",
     "text": [
      "Counter({('A', 1): 10, ('A', 2): 10})\n",
      "Counter({('A', 1): 15, ('B', 2): 15, ('C', 2): 15, ('A', 2): 10})\n"
     ]
    }
   ],
   "source": [
    "k = Counter()\n",
    "c = Counter(s.to_dict())\n",
    "d = Counter({('A', 1): 5, ('B', 2): 15, ('C', 2): 15})\n",
    "f = k + c\n",
    "print(f)\n",
    "print (f + d)"
   ]
  },
  {
   "cell_type": "code",
   "execution_count": 21,
   "metadata": {},
   "outputs": [
    {
     "name": "stdout",
     "output_type": "stream",
     "text": [
      "Total sec: 158.17067074775696\n"
     ]
    }
   ],
   "source": [
    "t0 = time.time()\n",
    "df =  pd.read_csv(\"Chicago_taxi_trips2013.csv\", usecols=[\"Taxi ID\", \"Trip Miles\",\n",
    "                                   \"Trip Start Timestamp\"],\n",
    "                          dtype={\n",
    "                              \"Taxi ID\": object,\n",
    "                              \"Trip Miles\": float,\n",
    "                              \"Trip Start Timestamp\": object\n",
    "                          })\n",
    "t1 = time.time()\n",
    "print(f\"Total sec: {t1-t0}\")\n",
    "total_count = addWeeks(df).groupby([\"Taxi ID\", \"week\"])[\"Trip Miles\"].sum().to_dict()\n",
    "headers = ['Taxi ID', *[f'week{i}' for i in range(1, 54)]]\n",
    "result = pd.DataFrame([[key, *val] for key, val in convert(total_count).items()], columns=headers, index=None)\n",
    "result.to_csv(f\"out_2013.csv\", index=False)"
   ]
  },
  {
   "cell_type": "code",
   "execution_count": null,
   "metadata": {},
   "outputs": [],
   "source": [
    "allids = pd.read_csv(\"Chicago_taxi_trips2017.csv\", usecols=[\"Taxi ID\"], dtype={ \"Taxi ID\": object })"
   ]
  },
  {
   "cell_type": "code",
   "execution_count": null,
   "metadata": {},
   "outputs": [],
   "source": [
    "result[\"Taxi ID\"].nunique()"
   ]
  },
  {
   "cell_type": "code",
   "execution_count": null,
   "metadata": {},
   "outputs": [],
   "source": [
    "len(allids.index)-allids.count()"
   ]
  },
  {
   "cell_type": "code",
   "execution_count": 22,
   "metadata": {},
   "outputs": [
    {
     "data": {
      "text/html": [
       "<div>\n",
       "<style scoped>\n",
       "    .dataframe tbody tr th:only-of-type {\n",
       "        vertical-align: middle;\n",
       "    }\n",
       "\n",
       "    .dataframe tbody tr th {\n",
       "        vertical-align: top;\n",
       "    }\n",
       "\n",
       "    .dataframe thead th {\n",
       "        text-align: right;\n",
       "    }\n",
       "</style>\n",
       "<table border=\"1\" class=\"dataframe\">\n",
       "  <thead>\n",
       "    <tr style=\"text-align: right;\">\n",
       "      <th></th>\n",
       "      <th>Taxi ID</th>\n",
       "      <th>Trip Start Timestamp</th>\n",
       "      <th>Trip Miles</th>\n",
       "    </tr>\n",
       "  </thead>\n",
       "  <tbody>\n",
       "    <tr>\n",
       "      <th>0</th>\n",
       "      <td>28d2ef11434811fb64d04e45ed0b0dc0fabdfcfd71247d...</td>\n",
       "      <td>01/13/2017 11:00:00 AM</td>\n",
       "      <td>0.0</td>\n",
       "    </tr>\n",
       "    <tr>\n",
       "      <th>1</th>\n",
       "      <td>bb0a5453416563998f2c5b11c17e497689270e336a7887...</td>\n",
       "      <td>03/29/2017 8:15:00 PM</td>\n",
       "      <td>0.7</td>\n",
       "    </tr>\n",
       "    <tr>\n",
       "      <th>2</th>\n",
       "      <td>c2b5d2c9d25be474a1378d6238dd5c34cec73a614288ff...</td>\n",
       "      <td>01/06/2017 7:15:00 PM</td>\n",
       "      <td>0.4</td>\n",
       "    </tr>\n",
       "    <tr>\n",
       "      <th>3</th>\n",
       "      <td>ebf424bd07c496fc53751e3ab8b11610d91460db7d922e...</td>\n",
       "      <td>02/08/2017 2:30:00 PM</td>\n",
       "      <td>2.6</td>\n",
       "    </tr>\n",
       "    <tr>\n",
       "      <th>4</th>\n",
       "      <td>c2b095c52b83f2b9253d33d3bd6d1589c7b6bf76ec4368...</td>\n",
       "      <td>02/26/2017 6:45:00 PM</td>\n",
       "      <td>2.8</td>\n",
       "    </tr>\n",
       "  </tbody>\n",
       "</table>\n",
       "</div>"
      ],
      "text/plain": [
       "                                             Taxi ID    Trip Start Timestamp  \\\n",
       "0  28d2ef11434811fb64d04e45ed0b0dc0fabdfcfd71247d...  01/13/2017 11:00:00 AM   \n",
       "1  bb0a5453416563998f2c5b11c17e497689270e336a7887...   03/29/2017 8:15:00 PM   \n",
       "2  c2b5d2c9d25be474a1378d6238dd5c34cec73a614288ff...   01/06/2017 7:15:00 PM   \n",
       "3  ebf424bd07c496fc53751e3ab8b11610d91460db7d922e...   02/08/2017 2:30:00 PM   \n",
       "4  c2b095c52b83f2b9253d33d3bd6d1589c7b6bf76ec4368...   02/26/2017 6:45:00 PM   \n",
       "\n",
       "   Trip Miles  \n",
       "0         0.0  \n",
       "1         0.7  \n",
       "2         0.4  \n",
       "3         2.6  \n",
       "4         2.8  "
      ]
     },
     "execution_count": 22,
     "metadata": {},
     "output_type": "execute_result"
    }
   ],
   "source": [
    "\n",
    "df =  pd.read_csv(\"Chicago_taxi_trips2017.csv\", usecols=[\"Taxi ID\", \"Trip Miles\",\n",
    "                                   \"Trip Start Timestamp\"],\n",
    "                          dtype={\n",
    "                              \"Taxi ID\": object,\n",
    "                              \"Trip Miles\": float,\n",
    "                              \"Trip Start Timestamp\": object\n",
    "                          }, nrows=100)\n",
    "df.head()\n",
    "# df = addWeeks(df)\n",
    "# df.query('week==1').to_csv(f\"week1_2017.csv\", index=False)"
   ]
  },
  {
   "cell_type": "code",
   "execution_count": null,
   "metadata": {},
   "outputs": [],
   "source": [
    "t0 = time.time()\n",
    "df =  pd.read_csv(\"Chicago_taxi_trips2017.csv\", usecols=[\"Taxi ID\", \"Trip Miles\",\n",
    "                                   \"Trip Start Timestamp\"],\n",
    "                          dtype={\n",
    "                              \"Taxi ID\": object,\n",
    "                              \"Trip Miles\": float,\n",
    "                              \"Trip Start Timestamp\": object\n",
    "                          })\n",
    "t1 = time.time()\n",
    "df = addWeeks(df)\n",
    "t2 = time.time()\n",
    "id = \"0008de7a146802839c9e6059f482d292ebdae13c5c31dd6e5983a80882e2a5dbcd6ea098c2fcd56f34ce02645eb94c6b39512e9304837746d4e289b6236c2c5b\"\n",
    "df.query(f'Taxi ID=={id}').to_csv(f\"taxi1_2017.csv\", index=False)\n",
    "t3 = time.time()\n",
    "print(t1-t0)\n",
    "print(t2-t0)\n",
    "print(t3-t0)"
   ]
  },
  {
   "cell_type": "code",
   "execution_count": 5,
   "metadata": {},
   "outputs": [],
   "source": [
    "import matplotlib.pyplot as plt\n",
    "import pandas as pd\n",
    "import numpy as np"
   ]
  },
  {
   "cell_type": "code",
   "execution_count": 43,
   "metadata": {},
   "outputs": [
    {
     "data": {
      "text/plain": [
       "<matplotlib.axes._subplots.AxesSubplot at 0x111ccef60>"
      ]
     },
     "execution_count": 43,
     "metadata": {},
     "output_type": "execute_result"
    },
    {
     "data": {
      "image/png": "[encoded data removed]",
      "text/plain": [
       "<Figure size 432x288 with 1 Axes>"
      ]
     },
     "metadata": {},
     "output_type": "display_data"
    }
   ],
   "source": [
    "# df = pd.DataFrame(np.random.rand(10, 5), columns=['A', 'B', 'C', 'D', 'E'])\n",
    "df = pd.read_csv(\"original/Chicago_taxi_trips2013.csv\", usecols=[\"Trip Miles\", \"Trip Seconds\"], nrows=100)\n",
    "df.plot.box()"
   ]
  },
  {
   "cell_type": "code",
   "execution_count": 39,
   "metadata": {},
   "outputs": [
    {
     "data": {
      "text/plain": [
       "<matplotlib.axes._subplots.AxesSubplot at 0x10cb3ca20>"
      ]
     },
     "execution_count": 39,
     "metadata": {},
     "output_type": "execute_result"
    },
    {
     "data": {
      "image/png": "[encoded data removed]",
      "text/plain": [
       "<Figure size 432x288 with 1 Axes>"
      ]
     },
     "metadata": {},
     "output_type": "display_data"
    }
   ],
   "source": [
    "df.boxplot(column=[\"Trip Seconds\"])"
   ]
  },
  {
   "cell_type": "code",
   "execution_count": 41,
   "metadata": {},
   "outputs": [
    {
     "data": {
      "text/plain": [
       "<matplotlib.axes._subplots.AxesSubplot at 0x112db6518>"
      ]
     },
     "execution_count": 41,
     "metadata": {},
     "output_type": "execute_result"
    },
    {
     "data": {
      "image/png": "[encoded data removed]",
      "text/plain": [
       "<Figure size 432x288 with 1 Axes>"
      ]
     },
     "metadata": {},
     "output_type": "display_data"
    }
   ],
   "source": [
    "df = pd.read_csv(\"original/Chicago_taxi_trips2013.csv\", usecols=[\"Trip Total\", \"Tips\", \"Extras\", \"Tolls\"], nrows=100)\n",
    "df = df.applymap(lambda x: float(x[1:]))\n",
    "df.boxplot(column=[\"Tolls\", \"Tips\", \"Extras\", \"Trip Total\"])"
   ]
  },
  {
   "cell_type": "code",
   "execution_count": null,
   "metadata": {},
   "outputs": [],
   "source": []
  },
  {
   "cell_type": "code",
   "execution_count": null,
   "metadata": {},
   "outputs": [],
   "source": []
  },
  {
   "cell_type": "code",
   "execution_count": null,
   "metadata": {},
   "outputs": [],
   "source": []
  }
 ],
 "metadata": {
  "kernelspec": {
   "display_name": "Python 3",
   "language": "python",
   "name": "python3"
  },
  "language_info": {
   "codemirror_mode": {
    "name": "ipython",
    "version": 3
   },
   "file_extension": ".py",
   "mimetype": "text/x-python",
   "name": "python",
   "nbconvert_exporter": "python",
   "pygments_lexer": "ipython3",
   "version": "3.6.5"
  }
 },
 "nbformat": 4,
 "nbformat_minor": 2
}
